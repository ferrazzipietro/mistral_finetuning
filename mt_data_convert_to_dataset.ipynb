{
 "cells": [
  {
   "cell_type": "code",
   "execution_count": 1,
   "metadata": {},
   "outputs": [],
   "source": [
    "from utils.data_preprocessor import  MT_preprocessor"
   ]
  },
  {
   "cell_type": "code",
   "execution_count": 7,
   "metadata": {},
   "outputs": [
    {
     "name": "stderr",
     "output_type": "stream",
     "text": [
      "/var/folders/9q/smpv54vn7238f0k83jbngk0c0000gn/T/ipykernel_95055/2705932060.py:2: FutureWarning: The 'delim_whitespace' keyword in pd.read_csv is deprecated and will be removed in a future version. Use ``sep='\\s+'`` instead\n",
      "  df = pd.read_csv('data/MTSamples/test/1.bio',delim_whitespace=True, header=None, names=['Word', 'Tag'])\n"
     ]
    },
    {
     "name": "stdout",
     "output_type": "stream",
     "text": [
      "MODEL TYPE: llama\n"
     ]
    },
    {
     "name": "stderr",
     "output_type": "stream",
     "text": [
      "Creating parquet from Arrow format: 100%|██████████| 1/1 [00:00<00:00, 972.93ba/s]\n",
      "Uploading the dataset shards: 100%|██████████| 1/1 [00:00<00:00,  3.10it/s]\n",
      "Creating parquet from Arrow format: 100%|██████████| 1/1 [00:00<00:00, 1162.50ba/s]\n",
      "Uploading the dataset shards: 100%|██████████| 1/1 [00:00<00:00,  3.64it/s]\n"
     ]
    }
   ],
   "source": [
    "import pandas as pd\n",
    "df = pd.read_csv('data/MTSamples/test/1.bio',delim_whitespace=True, header=None, names=['Word', 'Tag'])\n",
    "file_path = 'data/MTSamples/test/22.bio'\n",
    "\n",
    "from dotenv import dotenv_values\n",
    "HF_TOKEN = dotenv_values(\".env.base\")['HF_TOKEN']\n",
    "\n",
    "mt_preprocessor = MT_preprocessor( \"meta-llama/Llama-2-7b-chat-hf\", \"meta-llama/Llama-2-7b-chat-hf\", token_llama=HF_TOKEN)\n",
    "mt_preprocessor.preprocess('data/MTSamples/test')\n",
    "mt_preprocessor.preprocess('data/MTSamples/train')\n",
    "dataset = mt_preprocessor.push_dataset_to_hub('ferrazzipietro/mt_samples_problems', HF_TOKEN, private=True)"
   ]
  }
 ],
 "metadata": {
  "kernelspec": {
   "display_name": ".venv",
   "language": "python",
   "name": "python3"
  },
  "language_info": {
   "codemirror_mode": {
    "name": "ipython",
    "version": 3
   },
   "file_extension": ".py",
   "mimetype": "text/x-python",
   "name": "python",
   "nbconvert_exporter": "python",
   "pygments_lexer": "ipython3",
   "version": "3.12.3"
  }
 },
 "nbformat": 4,
 "nbformat_minor": 2
}
