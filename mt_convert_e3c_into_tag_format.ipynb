{
 "cells": [
  {
   "cell_type": "code",
   "execution_count": 1,
   "metadata": {},
   "outputs": [
    {
     "name": "stderr",
     "output_type": "stream",
     "text": [
      "/Users/pietroferrazzi/Desktop/dottorato/mistral_finetuning/.venv/lib/python3.9/site-packages/tqdm/auto.py:21: TqdmWarning: IProgress not found. Please update jupyter and ipywidgets. See https://ipywidgets.readthedocs.io/en/stable/user_install.html\n",
      "  from .autonotebook import tqdm as notebook_tqdm\n"
     ]
    }
   ],
   "source": [
    "from datasets import load_dataset\n",
    "from config.finetuning_llama2_tag import config\n",
    "\n",
    "dataset = load_dataset(config.DATASET_CHEKPOINT) #download_mode=\"force_redownload\"\n",
    "dataset = dataset[config.TRAIN_LAYER]\n",
    "dataset = dataset.shuffle(seed=1234)  # Shuffle dataset here"
   ]
  },
  {
   "cell_type": "code",
   "execution_count": 16,
   "metadata": {},
   "outputs": [
    {
     "data": {
      "text/plain": [
       "[2, 3]"
      ]
     },
     "execution_count": 16,
     "metadata": {},
     "output_type": "execute_result"
    }
   ],
   "source": [
    "l = [1,2,3]\n",
    "l.pop(0)\n",
    "l"
   ]
  },
  {
   "cell_type": "code",
   "execution_count": 18,
   "metadata": {},
   "outputs": [
    {
     "data": {
      "text/plain": [
       "{'sentence': 'The results of the PCR were positive for RNA specific to SARS-CoV-2.',\n",
       " 'entities': [{'id': '9470',\n",
       "   'offsets': [19, 22],\n",
       "   'role': '',\n",
       "   'semantic_type_id': '',\n",
       "   'text': 'PCR',\n",
       "   'type': 'EVENT'},\n",
       "  {'id': '9485',\n",
       "   'offsets': [57, 67],\n",
       "   'role': '',\n",
       "   'semantic_type_id': '',\n",
       "   'text': 'SARS-CoV-2',\n",
       "   'type': 'EVENT'},\n",
       "  {'id': '10107',\n",
       "   'offsets': [57, 67],\n",
       "   'role': '',\n",
       "   'semantic_type_id': 'C5400365',\n",
       "   'text': 'SARS-CoV-2',\n",
       "   'type': 'CLINENTITY'},\n",
       "  {'id': '10347',\n",
       "   'offsets': [28, 36],\n",
       "   'role': '',\n",
       "   'semantic_type_id': '',\n",
       "   'text': 'positive',\n",
       "   'type': 'RML'}],\n",
       " 'original_text': 'A 43-year-old non-diabetic Indian male reported to our outpatient department with chief complaints of cough with expectoration, chest pain, reduced appetite, fever with chills, and night sweats for two weeks. He also complained of breathlessness on exertion and had two episodes of blood in his sputum. The patient explained that the cough was continuous and was relieved after taking cough syrup. He also mentioned that the episodes of fever were initially intermittent and then daily for the last two weeks and were relieved after taking Paracetamol. The chest pain was localized to the middle of the chest and was aggravated on exertion. He was a businessman by profession with no history of smoking, alcoholism, or any other substance abuse. Also, there was no history of any contact of TB or COVID-19 in the family or close contacts. And there was no history of foreign travel in the recent past. But he had reported having traveled by a domestic airline about twenty days back. There was no history of weight loss or any other major illness in the past.\\r\\nOn examination his vitals were-pulse-108/minute, arterial BP-130/80 mm of Hg, respiratory rate of 30 breaths/minute, Sp02-899% on room air, temperature- 101-degree centigrade. His Sp02 fell by 70% on room air after waking. On auscultation, there was crepitation on the bilateral middle lobes of the lungs. Also, dyspnea on exertion was noted. The rest of the systemic examination was within normal limits.\\r\\nConsidering this as a probable case of TB with COVID-19 he was advised a chest radiograph with sputum microscopy (Ziehl Neelsen (ZN) staining for acid-fast bacilli), Cartridge-based nucleic acid amplification test (CBNAAT) of the sputum and other routine investigations. To check for the COVID-19 he was advised qualitative polymerase chain reaction (PCR) test from the oropharyngeal swab. The results were surprising with Mycobacterium tuberculosis detected on sputum fluorescent microscopy and were also confirmed by the CBNAAT. However, there was no resistance to Rifampicin. The results of the PCR were positive for RNA specific to SARS-CoV-2. Besides, the chest radiograph PA-view was suggestive of bilateral consolidations on the middle lobes of lungs with ill-defined borders. The other investigations revealed a low lymphocyte count (1x 10 9 /L) and increased levels of C-reactive protein (CRP) (57 mg/L), lactate dehydrogenase (LDH) (580 U/L), and erythrocyte sedimentation rate (ESR) (70 mm in the 1 st hour). Also, a sample for liquid culture (MGIT BACTEC) was sent to the Intermediate Reference Laboratory (IRL) which revealed the growth of Mycobacterium tuberculosis. Computed tomography was not performed as the diagnosis was established by other cheaper and faster methods and also the patient was unwilling for the same. All the other routine investigations were within normal limits.\\r\\nHe was referred to the nearest designated COVID-19 management center, where he was managed as per national guidelines. Besides, he was also started on an antitubercular treatment of four drugs as per the National Tuberculosis Elimination Program (NTEP) guidelines. He was advised follow-up post completion of his stay at the designated COVID-19 center, but he has not yet reported back for follow-up. Written informed consent was obtained from the patient for using clinical data and images for publication in this study.\\r\\n',\n",
       " 'original_id': 'EN100606'}"
      ]
     },
     "metadata": {},
     "output_type": "display_data"
    },
    {
     "name": "stdout",
     "output_type": "stream",
     "text": [
      "19 22\n",
      "The results of the <tag>PCR</tag> were positive for RNA specific to SARS-CoV-2.\n",
      "57 67\n",
      "The results of the <tag>PCR</tag> were positive for RNA s<tag>pecific to</tag> SARS-CoV-2.\n",
      "57 67\n",
      "The results of the <tag>PCR</tag> were positive for RNA s<tag><tag>pecif</tag>ic to</tag> SARS-CoV-2.\n",
      "28 36\n",
      "The results of the <tag>PCR<<tag>/tag> we</tag>re positive for RNA s<tag><tag>pecif</tag>ic to</tag> SARS-CoV-2.\n"
     ]
    },
    {
     "data": {
      "text/plain": [
       "'The results of the <tag>PCR</tag>'"
      ]
     },
     "execution_count": 18,
     "metadata": {},
     "output_type": "execute_result"
    }
   ],
   "source": [
    "tmp = dataset[0]\n",
    "display(tmp)\n",
    "to_add = len('<tag></tag>')\n",
    "base_sentence = tmp['sentence']\n",
    "entities = tmp['entities']\n",
    "\n",
    "while len(entities) > 0:\n",
    "    ent = entities.pop(0)\n",
    "    start = ent['offsets'][0]\n",
    "    end = ent['offsets'][1]\n",
    "    base_sentence += base_sentence[:start] + '<tag>' + base_sentence[start:end] + '</tag>' + base_sentence[end:]\n",
    "    print(start, end)\n",
    "    print(base_sentence)\n",
    "    #break\n",
    "sentence"
   ]
  }
 ],
 "metadata": {
  "kernelspec": {
   "display_name": ".venv",
   "language": "python",
   "name": "python3"
  },
  "language_info": {
   "codemirror_mode": {
    "name": "ipython",
    "version": 3
   },
   "file_extension": ".py",
   "mimetype": "text/x-python",
   "name": "python",
   "nbconvert_exporter": "python",
   "pygments_lexer": "ipython3",
   "version": "3.9.15"
  }
 },
 "nbformat": 4,
 "nbformat_minor": 2
}
