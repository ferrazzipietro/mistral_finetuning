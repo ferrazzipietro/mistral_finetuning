{
 "cells": [
  {
   "cell_type": "code",
   "execution_count": 2,
   "metadata": {},
   "outputs": [
    {
     "name": "stdout",
     "output_type": "stream",
     "text": [
      "MODEL TYPE: llama\n"
     ]
    },
    {
     "name": "stderr",
     "output_type": "stream",
     "text": [
      "Map: 100%|██████████| 668/668 [00:00<00:00, 22030.33 examples/s]\n"
     ]
    },
    {
     "data": {
      "text/plain": [
       "'<s>[INST]  <<61 - letni moški se je pojavil s kroničnim levim ušesom izcedekom , glavobolom na levi strani , diplopijo povezano z vrtoglavico , tinitusom in slušno okvaro .>>> [/INST][{\"entity\": \"levim ušesom izcedekom\"}, {\"entity\": \"glavobolom na levi strani\"}, {\"entity\": \"diplopijo\"}, {\"entity\": \"vrtoglavico\"}, {\"entity\": \"tinitusom\"}, {\"entity\": \"slušno okvaro\"}] </s>'"
      ]
     },
     "execution_count": 2,
     "metadata": {},
     "output_type": "execute_result"
    }
   ],
   "source": [
    "from dotenv import dotenv_values\n",
    "from utils.slovenian_preprocessor import Slovenian_preprocessor\n",
    "import pandas as pd\n",
    "HF_TOKEN = dotenv_values(\".env.base\")['HF_TOKEN']\n",
    "\n",
    "data_train = pd.read_csv('/Users/pietroferrazzi/Desktop/dottorato/mistral_finetuning/data/slovenian/E3C_Slovenian_Train_SL_L1.csv', header=None, names=['word', 'label'])\n",
    "preprocessor = Slovenian_preprocessor(data_train, \"meta-llama/Llama-2-7b-chat-hf\", \"meta-llama/Llama-2-7b-chat-hf\", token_llama=HF_TOKEN)\n",
    "preprocessor.preprocess()\n",
    "preprocessor.apply('', offset=False, simplest_prompt=False)\n",
    "preprocessor.data[0]['prompt']"
   ]
  },
  {
   "cell_type": "code",
   "execution_count": 3,
   "metadata": {},
   "outputs": [
    {
     "data": {
      "text/plain": [
       "{'text': '61 - letni moški se je pojavil s kroničnim levim ušesom izcedekom , glavobolom na levi strani , diplopijo povezano z vrtoglavico , tinitusom in slušno okvaro .',\n",
       " 'entities': [{'entity': 'levim ušesom izcedekom'},\n",
       "  {'entity': 'glavobolom na levi strani'},\n",
       "  {'entity': 'diplopijo'},\n",
       "  {'entity': 'vrtoglavico'},\n",
       "  {'entity': 'tinitusom'},\n",
       "  {'entity': 'slušno okvaro'}],\n",
       " 'prompt': '<s>[INST]  <<61 - letni moški se je pojavil s kroničnim levim ušesom izcedekom , glavobolom na levi strani , diplopijo povezano z vrtoglavico , tinitusom in slušno okvaro .>>> [/INST][{\"entity\": \"levim ušesom izcedekom\"}, {\"entity\": \"glavobolom na levi strani\"}, {\"entity\": \"diplopijo\"}, {\"entity\": \"vrtoglavico\"}, {\"entity\": \"tinitusom\"}, {\"entity\": \"slušno okvaro\"}] </s>'}"
      ]
     },
     "execution_count": 3,
     "metadata": {},
     "output_type": "execute_result"
    }
   ],
   "source": [
    "preprocessor.data[0]"
   ]
  },
  {
   "cell_type": "code",
   "execution_count": 6,
   "metadata": {},
   "outputs": [
    {
     "data": {
      "text/plain": [
       "1040"
      ]
     },
     "execution_count": 6,
     "metadata": {},
     "output_type": "execute_result"
    }
   ],
   "source": [
    "lengths = [len(prompt) for prompt in preprocessor.data['prompt']]\n",
    "max_length = max(lengths)\n",
    "max_length"
   ]
  }
 ],
 "metadata": {
  "kernelspec": {
   "display_name": ".venv",
   "language": "python",
   "name": "python3"
  },
  "language_info": {
   "codemirror_mode": {
    "name": "ipython",
    "version": 3
   },
   "file_extension": ".py",
   "mimetype": "text/x-python",
   "name": "python",
   "nbconvert_exporter": "python",
   "pygments_lexer": "ipython3",
   "version": "3.9.15"
  }
 },
 "nbformat": 4,
 "nbformat_minor": 2
}
