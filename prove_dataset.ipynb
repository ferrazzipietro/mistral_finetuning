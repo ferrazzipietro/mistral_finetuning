{
 "cells": [
  {
   "cell_type": "code",
   "execution_count": 1,
   "metadata": {},
   "outputs": [
    {
     "name": "stderr",
     "output_type": "stream",
     "text": [
      "/Users/pietroferrazzi/Desktop/dottorato/mistral_finetuning/.env/lib/python3.9/site-packages/tqdm/auto.py:21: TqdmWarning: IProgress not found. Please update jupyter and ipywidgets. See https://ipywidgets.readthedocs.io/en/stable/user_install.html\n",
      "  from .autonotebook import tqdm as notebook_tqdm\n"
     ]
    }
   ],
   "source": [
    "from datasets import load_dataset\n",
    "from utils.data_preprocessing import preprocess_data\n",
    "\n",
    "HF_TOKEN = dotenv_values(\".env.base\")['HF_TOKEN']\n",
    "# If the dataset is gated/private, make sure you have run huggingface-cli login\n",
    "dataset = load_dataset(\"ferrazzipietro/e3c-sentences\", token=HF_TOKEN)"
   ]
  },
  {
   "cell_type": "code",
   "execution_count": 17,
   "metadata": {},
   "outputs": [],
   "source": [
    "from config import preprocessing_params\n",
    "from utils.data_preprocessor import DataPreprocessor\n",
    "import pandas as pd\n",
    "import os\n",
    "def preprocess_data(hf_dataset):\n",
    "    data_preprocessor = DataPreprocessor()\n",
    "    splits = ['en.layer1', 'en.layer2', 'en.layer2.validation', 'en.layer3',\n",
    "            'es.layer1', 'es.layer2', 'es.layer2.validation', 'es.layer3',\n",
    "            'eu.layer1', 'eu.layer2', 'eu.layer2.validation', 'eu.layer3',\n",
    "            'it.layer1', 'it.layer2', 'it.layer2.validation', 'it.layer3',\n",
    "            'fr.layer1', 'fr.layer2', 'fr.layer2.validation', 'fr.layer3']\n",
    "    for split_name in splits:\n",
    "        hf_dataset[split_name] = data_preprocessor.apply(data=hf_dataset[split_name], \n",
    "                                                        task=preprocessing_params.task, \n",
    "                                                        instruction_on_response_format=preprocessing_params.instruction_on_response_format, \n",
    "                                                        n_shots=preprocessing_params.n_shots, \n",
    "                                                        offset=preprocessing_params.offset, \n",
    "                                                        tokenizer=preprocessing_params.tokenizer, \n",
    "                                                        list_of_examples=preprocessing_params.list_of_examples,\n",
    "                                                        list_of_responses=preprocessing_params.list_of_responses)\n",
    "    return hf_dataset\n",
    "\n",
    "def split_layer_into_train_test_(hf_dataset, split_name='en.layer1'):\n",
    "    mapping = {'en.layer1': 'train_labels_en.txt', \n",
    "               'en.layer2': 'train_labels_en.txt',\n",
    "               'en.layer2.validation': 'test_labels_en.txt',\n",
    "               'en.layer3': 'test_labels_en.txt',\n",
    "               'es.layer1': 'train_labels_es.txt',\n",
    "               'es.layer2': 'train_labels_es.txt',\n",
    "               'es.layer2.validation': 'test_labels_es.txt',\n",
    "               'es.layer3': 'test_labels_es.txt',\n",
    "               'eu.layer1': 'train_labels_eu.txt',\n",
    "               'eu.layer2': 'train_labels_eu.txt',\n",
    "               'eu.layer2.validation': 'test_labels_eu.txt',\n",
    "               'eu.layer3': 'test_labels_eu.txt',\n",
    "               'it.layer1': 'train_labels_it.txt',\n",
    "               'it.layer2': 'train_labels_it.txt',\n",
    "               'it.layer2.validation': 'test_labels_it.txt',\n",
    "               'it.layer3': 'test_labels_it.txt'}\n",
    "    labels_path = mapping[split_name]\n",
    "    with open(os.path.join('data', labels_path), 'r') as file:\n",
    "        file_content = file.read()\n",
    "    labels = file_content.split(\", \")\n",
    "    labels = [label[1:-1] for label in labels]\n",
    "    return labels\n",
    "    "
   ]
  },
  {
   "cell_type": "code",
   "execution_count": 28,
   "metadata": {},
   "outputs": [
    {
     "name": "stdout",
     "output_type": "stream",
     "text": [
      "36\n"
     ]
    },
    {
     "data": {
      "text/plain": [
       "84"
      ]
     },
     "execution_count": 28,
     "metadata": {},
     "output_type": "execute_result"
    }
   ],
   "source": [
    "labels = split_layer_into_train_test_(dataset, split_name='en.layer1')\n",
    "\n",
    "print(len(labels))\n",
    "len(set(dataset['en.layer1']['original_id']))"
   ]
  }
 ],
 "metadata": {
  "kernelspec": {
   "display_name": ".env",
   "language": "python",
   "name": "python3"
  },
  "language_info": {
   "codemirror_mode": {
    "name": "ipython",
    "version": 3
   },
   "file_extension": ".py",
   "mimetype": "text/x-python",
   "name": "python",
   "nbconvert_exporter": "python",
   "pygments_lexer": "ipython3",
   "version": "3.9.15"
  }
 },
 "nbformat": 4,
 "nbformat_minor": 2
}
