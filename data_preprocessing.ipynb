{
 "cells": [
  {
   "cell_type": "code",
   "execution_count": 10,
   "metadata": {},
   "outputs": [],
   "source": [
    "from datasets import load_dataset\n",
    "from dotenv import dotenv_values\n",
    "from config import preprocessing_params\n",
    "from utils.data_preprocessor import DataPreprocessor\n",
    "\n",
    "HF_TOKEN = dotenv_values(\".env.base\")['HF_TOKEN']\n",
    "hf_e3c = load_dataset(\"ferrazzipietro/e3c-sentences\", token = HF_TOKEN)"
   ]
  },
  {
   "cell_type": "code",
   "execution_count": 12,
   "metadata": {},
   "outputs": [
    {
     "name": "stderr",
     "output_type": "stream",
     "text": [
      "Map: 100%|██████████| 1519/1519 [00:00<00:00, 10387.66 examples/s]\n",
      "Map: 100%|██████████| 2872/2872 [00:00<00:00, 14821.54 examples/s]\n",
      "Map: 100%|██████████| 333/333 [00:00<00:00, 16791.74 examples/s]\n",
      "Map: 100%|██████████| 9778/9778 [00:00<00:00, 22728.53 examples/s]\n",
      "Map: 100%|██████████| 1108/1108 [00:00<00:00, 9207.40 examples/s]\n",
      "Map: 100%|██████████| 2388/2388 [00:00<00:00, 19434.35 examples/s]\n",
      "Map: 100%|██████████| 292/292 [00:00<00:00, 15022.84 examples/s]\n",
      "Map: 100%|██████████| 25739/25739 [00:02<00:00, 11557.08 examples/s]\n"
     ]
    }
   ],
   "source": [
    "data_preprocessor = DataPreprocessor()\n",
    "splits = ['en.layer1', 'en.layer2', 'en.layer2.validation', 'en.layer3',\n",
    "          'es.layer1', 'es.layer2', 'es.layer2.validation', 'es.layer3',\n",
    "          'eu.layer1', 'eu.layer2', 'eu.layer2.validation', 'eu.layer3',\n",
    "          'it.layer1', 'it.layer2', 'it.layer2.validation', 'it.layer3',\n",
    "          'fr.layer1', 'fr.layer2', 'fr.layer2.validation', 'fr.layer3']\n",
    "for split_name in splits:\n",
    "    hf_e3c[split_name] = data_preprocessor.apply(data=hf_e3c[split_name], \n",
    "                                                task=preprocessing_params.task, \n",
    "                                                instruction_on_response_format=preprocessing_params.instruction_on_response_format, \n",
    "                                                n_shots=preprocessing_params.n_shots, \n",
    "                                                offset=preprocessing_params.offset, \n",
    "                                                tokenizer=preprocessing_params.tokenizer, \n",
    "                                                list_of_examples=preprocessing_params.list_of_examples,\n",
    "                                                list_of_responses=preprocessing_params.list_of_responses)"
   ]
  }
 ],
 "metadata": {
  "kernelspec": {
   "display_name": ".env",
   "language": "python",
   "name": "python3"
  },
  "language_info": {
   "codemirror_mode": {
    "name": "ipython",
    "version": 3
   },
   "file_extension": ".py",
   "mimetype": "text/x-python",
   "name": "python",
   "nbconvert_exporter": "python",
   "pygments_lexer": "ipython3",
   "version": "3.9.15"
  }
 },
 "nbformat": 4,
 "nbformat_minor": 2
}
