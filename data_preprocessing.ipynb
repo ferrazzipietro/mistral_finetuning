{
 "cells": [
  {
   "cell_type": "code",
   "execution_count": 1,
   "metadata": {},
   "outputs": [
    {
     "name": "stderr",
     "output_type": "stream",
     "text": [
      "/home/pferrazzi/miniconda3/envs/lm_finetune_env/lib/python3.8/site-packages/tqdm/auto.py:21: TqdmWarning: IProgress not found. Please update jupyter and ipywidgets. See https://ipywidgets.readthedocs.io/en/stable/user_install.html\n",
      "  from .autonotebook import tqdm as notebook_tqdm\n"
     ]
    },
    {
     "ename": "ModuleNotFoundError",
     "evalue": "No module named 'config.fine_tuning'",
     "output_type": "error",
     "traceback": [
      "\u001b[0;31m---------------------------------------------------------------------------\u001b[0m",
      "\u001b[0;31mModuleNotFoundError\u001b[0m                       Traceback (most recent call last)",
      "Cell \u001b[0;32mIn[1], line 3\u001b[0m\n\u001b[1;32m      1\u001b[0m \u001b[38;5;28;01mfrom\u001b[39;00m \u001b[38;5;21;01mdatasets\u001b[39;00m \u001b[38;5;28;01mimport\u001b[39;00m load_dataset\n\u001b[1;32m      2\u001b[0m \u001b[38;5;28;01mfrom\u001b[39;00m \u001b[38;5;21;01mdotenv\u001b[39;00m \u001b[38;5;28;01mimport\u001b[39;00m dotenv_values\n\u001b[0;32m----> 3\u001b[0m \u001b[38;5;28;01mfrom\u001b[39;00m \u001b[38;5;21;01mconfig\u001b[39;00m\u001b[38;5;21;01m.\u001b[39;00m\u001b[38;5;21;01mfinetuning\u001b[39;00m \u001b[38;5;28;01mimport\u001b[39;00m preprocessing_params\n\u001b[1;32m      4\u001b[0m \u001b[38;5;28;01mfrom\u001b[39;00m \u001b[38;5;21;01mutils\u001b[39;00m\u001b[38;5;21;01m.\u001b[39;00m\u001b[38;5;21;01mdata_preprocessor\u001b[39;00m \u001b[38;5;28;01mimport\u001b[39;00m DataPreprocessor\n\u001b[1;32m      6\u001b[0m HF_TOKEN \u001b[38;5;241m=\u001b[39m dotenv_values(\u001b[38;5;124m\"\u001b[39m\u001b[38;5;124m.env.base\u001b[39m\u001b[38;5;124m\"\u001b[39m)[\u001b[38;5;124m'\u001b[39m\u001b[38;5;124mHF_TOKEN\u001b[39m\u001b[38;5;124m'\u001b[39m]\n",
      "File \u001b[0;32m~/mistral_finetuning/config/__init__.py:1\u001b[0m\n\u001b[0;32m----> 1\u001b[0m \u001b[38;5;28;01mfrom\u001b[39;00m \u001b[38;5;21;01m.\u001b[39;00m\u001b[38;5;21;01mfine_tuning\u001b[39;00m \u001b[38;5;28;01mimport\u001b[39;00m \u001b[38;5;241m*\u001b[39m\n",
      "\u001b[0;31mModuleNotFoundError\u001b[0m: No module named 'config.fine_tuning'"
     ]
    }
   ],
   "source": [
    "from datasets import load_dataset\n",
    "from dotenv import dotenv_values\n",
    "from config.finetuning import preprocessing_params\n",
    "from utils.data_preprocessor import DataPreprocessor\n",
    "\n",
    "HF_TOKEN = dotenv_values(\".env.base\")['HF_TOKEN']\n",
    "hf_e3c = load_dataset(\"ferrazzipietro/e3c-sentences\", token = HF_TOKEN)"
   ]
  },
  {
   "cell_type": "code",
   "execution_count": 12,
   "metadata": {},
   "outputs": [
    {
     "name": "stderr",
     "output_type": "stream",
     "text": [
      "Map: 100%|██████████| 1519/1519 [00:00<00:00, 10387.66 examples/s]\n",
      "Map: 100%|██████████| 2872/2872 [00:00<00:00, 14821.54 examples/s]\n",
      "Map: 100%|██████████| 333/333 [00:00<00:00, 16791.74 examples/s]\n",
      "Map: 100%|██████████| 9778/9778 [00:00<00:00, 22728.53 examples/s]\n",
      "Map: 100%|██████████| 1108/1108 [00:00<00:00, 9207.40 examples/s]\n",
      "Map: 100%|██████████| 2388/2388 [00:00<00:00, 19434.35 examples/s]\n",
      "Map: 100%|██████████| 292/292 [00:00<00:00, 15022.84 examples/s]\n",
      "Map: 100%|██████████| 25739/25739 [00:02<00:00, 11557.08 examples/s]\n"
     ]
    }
   ],
   "source": [
    "data_preprocessor = DataPreprocessor()\n",
    "splits = ['en.layer1', 'en.layer2', 'en.layer2.validation', 'en.layer3',\n",
    "          'es.layer1', 'es.layer2', 'es.layer2.validation', 'es.layer3',\n",
    "          'eu.layer1', 'eu.layer2', 'eu.layer2.validation', 'eu.layer3',\n",
    "          'it.layer1', 'it.layer2', 'it.layer2.validation', 'it.layer3',\n",
    "          'fr.layer1', 'fr.layer2', 'fr.layer2.validation', 'fr.layer3']\n",
    "for split_name in splits:\n",
    "    hf_e3c[split_name] = data_preprocessor.apply(data=hf_e3c[split_name], \n",
    "                                                task=preprocessing_params.task, \n",
    "                                                instruction_on_response_format=preprocessing_params.instruction_on_response_format, \n",
    "                                                n_shots=preprocessing_params.n_shots, \n",
    "                                                offset=preprocessing_params.offset, \n",
    "                                                tokenizer=preprocessing_params.tokenizer, \n",
    "                                                list_of_examples=preprocessing_params.list_of_examples,\n",
    "                                                list_of_responses=preprocessing_params.list_of_responses)"
   ]
  }
 ],
 "metadata": {
  "kernelspec": {
   "display_name": ".env",
   "language": "python",
   "name": "python3"
  },
  "language_info": {
   "codemirror_mode": {
    "name": "ipython",
    "version": 3
   },
   "file_extension": ".py",
   "mimetype": "text/x-python",
   "name": "python",
   "nbconvert_exporter": "python",
   "pygments_lexer": "ipython3",
   "version": "3.8.18"
  }
 },
 "nbformat": 4,
 "nbformat_minor": 2
}
