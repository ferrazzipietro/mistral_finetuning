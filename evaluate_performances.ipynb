{
 "cells": [
  {
   "cell_type": "code",
   "execution_count": 3,
   "metadata": {},
   "outputs": [],
   "source": [
    "import json"
   ]
  },
  {
   "cell_type": "code",
   "execution_count": 26,
   "metadata": {},
   "outputs": [],
   "source": [
    "model_output_desired = '[{\"entity\": \"follow-up\"}, {\"entity\": \"evidence\"}, {\"entity\": \"recurrent\"}, {\"entity\": \"disease\"}, {\"entity\": \"the patient\"}, {\"entity\": \"1 year\"}]'\n",
    "ground_truth  =        '[{\"entity\": \"follow-up\"}, {\"entity\": \"reality\"},  {\"entity\": \"recurrent\"},  {\"entity\": \"blood\"},  {\"entity\": \"the patient\"}, {\"entity\": \"1 year\"}]'"
   ]
  },
  {
   "cell_type": "code",
   "execution_count": 36,
   "metadata": {},
   "outputs": [],
   "source": [
    "class Evaluator():\n",
    "\n",
    "    def __init__(self) -> None:\n",
    "        pass\n",
    "    \n",
    "    def _assess_model_output(self, model_output: str) -> bool:\n",
    "        good_format = True\n",
    "        try :\n",
    "            json.loads(model_output)\n",
    "        except Exception as error:\n",
    "            print(error)\n",
    "            good_format = False\n",
    "        return good_format\n",
    "\n",
    "    def parse_json_offset(self, model_output: str) -> dict[str, list[str]]:\n",
    "        if self._assess_model_output(model_output):\n",
    "            output = json.loads(model_output)\n",
    "            entities = [entity[\"entity\"] for entity in output]\n",
    "            offsets = [entity[\"offset\"] for entity in output]\n",
    "            return {\"entities\": entities, \"offsets\": offsets}\n",
    "        \n",
    "    def parse_json_NO_offset(self, model_output: str) -> dict[str, list[str]]:\n",
    "        if self._assess_model_output(model_output):\n",
    "            output = json.loads(model_output)\n",
    "            entities = [entity[\"entity\"] for entity in output]\n",
    "            return {\"entities\": entities}\n",
    "        \n",
    "    def f1(self, model_output: str, ground_truth: str) -> float:\n",
    "        model_output = self.parse_json_NO_offset(model_output)\n",
    "        ground_truth = self.parse_json_NO_offset(ground_truth)\n",
    "        model_output = model_output[\"entities\"]\n",
    "        ground_truth = ground_truth[\"entities\"]\n",
    "        TP = len(set(model_output).intersection(set(ground_truth)))\n",
    "        FP = len(set(model_output).difference(set(ground_truth)))\n",
    "        FN = len(set(ground_truth).difference(set(model_output)))\n",
    "        # F1 = 2 * TP / (2 * TP + FN + FP)\n",
    "        if TP == 0:\n",
    "            return 0\n",
    "        precision = TP / (TP + FP)\n",
    "        recall = TP / (TP + FN)\n",
    "        return 2 * (precision * recall) / (precision + recall)"
   ]
  },
  {
   "cell_type": "code",
   "execution_count": 37,
   "metadata": {},
   "outputs": [
    {
     "data": {
      "text/plain": [
       "0.6666666666666666"
      ]
     },
     "execution_count": 37,
     "metadata": {},
     "output_type": "execute_result"
    }
   ],
   "source": [
    "evaluator = Evaluator()\n",
    "ouput = evaluator.parse_json_NO_offset(model_output_desired)\n",
    "expected = evaluator.parse_json_NO_offset(ground_truth)\n",
    "f1 = evaluator.f1(model_output_desired, ground_truth)\n",
    "f1\n"
   ]
  }
 ],
 "metadata": {
  "kernelspec": {
   "display_name": ".env",
   "language": "python",
   "name": "python3"
  },
  "language_info": {
   "codemirror_mode": {
    "name": "ipython",
    "version": 3
   },
   "file_extension": ".py",
   "mimetype": "text/x-python",
   "name": "python",
   "nbconvert_exporter": "python",
   "pygments_lexer": "ipython3",
   "version": "3.9.15"
  }
 },
 "nbformat": 4,
 "nbformat_minor": 2
}
