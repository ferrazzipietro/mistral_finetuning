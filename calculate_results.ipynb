{
 "cells": [
  {
   "cell_type": "code",
   "execution_count": 40,
   "metadata": {},
   "outputs": [],
   "source": [
    "import re\n",
    "import pandas as pd\n",
    "\n",
    "def extract_params_from_file_name(df: pd.DataFrame):\n",
    "    df['maxNewTokensFactor'] = df['file'].apply(lambda x: re.search(r'maxNewTokensFactor(\\d+)', x).group(1))\n",
    "    df['nShotsInference'] = df['file'].apply(lambda x: re.search(r'nShotsInference(\\d+)', x).group(1))\n",
    "    #df['layer'] = df['file'].apply(lambda x: re.search(r'adapters_(\\s+)', x).group(1))\n",
    "    df['model'] = df['file'].apply(lambda x: str(x.split('_adapters_')[0].split('nShotsInference')[1][2:]))\n",
    "    df['training_params_string'] = df['file'].apply(lambda x: x.split('adapters_')[1])\n",
    "    df['nbit'] = df['training_params_string'].apply(lambda x: int(x.split('_')[1]))\n",
    "    df['bnb_4bit_compute_dtype'] = df['training_params_string'].apply(lambda x: x.split('_')[2])\n",
    "    df['r'] = df['training_params_string'].apply(lambda x: int(x.split('_')[3]))\n",
    "    df['lora_alpha'] = df['training_params_string'].apply(lambda x: int(x.split('_')[4]))\n",
    "    df['lora_dropout'] = df['training_params_string'].apply(lambda x: float(x.split('_')[5]))\n",
    "    df['gradient_accumulation_steps'] = df['training_params_string'].apply(lambda x: int(x.split('_')[6]))\n",
    "    df['learning_rate'] = df['training_params_string'].apply(lambda x: float(x.split('_')[7].split('.')[0]))\n",
    "    df = df.drop(columns=['training_params_string', 'file'])\n",
    "    return df\n"
   ]
  },
  {
   "cell_type": "code",
   "execution_count": 46,
   "metadata": {},
   "outputs": [],
   "source": [
    "mistral_8bit = pd.read_csv('data/evaluation_results/mistral_8bit.csv')\n",
    "mistral_8bit = extract_params_from_file_name(mistral_8bit)\n",
    "mistral_4bit = pd.read_csv('data/evaluation_results/mistral_4bit.csv')\n",
    "mistral_4bit = extract_params_from_file_name(mistral_4bit)\n",
    "llama7b_8bit = pd.read_csv('data/evaluation_results/llama7b_8bit.csv')\n",
    "llama7b_8bit = extract_params_from_file_name(llama7b_8bit)\n",
    "\n",
    "pd.concat([mistral_4bit, mistral_8bit, llama7b_8bit]).to_csv('data/evaluation_results/joint_results.csv')"
   ]
  }
 ],
 "metadata": {
  "kernelspec": {
   "display_name": "lm_finetune_env",
   "language": "python",
   "name": "python3"
  },
  "language_info": {
   "codemirror_mode": {
    "name": "ipython",
    "version": 3
   },
   "file_extension": ".py",
   "mimetype": "text/x-python",
   "name": "python",
   "nbconvert_exporter": "python",
   "pygments_lexer": "ipython3",
   "version": "3.8.18"
  }
 },
 "nbformat": 4,
 "nbformat_minor": 2
}
